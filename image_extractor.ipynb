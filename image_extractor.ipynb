{
 "cells": [
  {
   "cell_type": "code",
   "execution_count": 12,
   "metadata": {
    "collapsed": false
   },
   "outputs": [],
   "source": [
    "import os\n",
    "import pickle\n",
    "import pathlib\n",
    "import imutils\n",
    "import matplotlib.pyplot as plt"
   ]
  },
  {
   "cell_type": "code",
   "execution_count": 13,
   "metadata": {},
   "outputs": [],
   "source": [
    "# CIFAR-10 clases\n",
    "classes = dict([\n",
    "    (0, \"airplane\"), \n",
    "    (1, \"automobile\"),\n",
    "    (2, \"bird\"),\n",
    "    (3, \"cat\"),\n",
    "    (4, \"deer\"),\n",
    "    (5, \"dog\"),\n",
    "    (6, \"frog\"),\n",
    "    (7, \"horse\"),\n",
    "    (8, \"ship\"),\n",
    "    (9, \"truck\")\n",
    "    ])"
   ]
  },
  {
   "cell_type": "code",
   "execution_count": 14,
   "metadata": {
    "collapsed": true
   },
   "outputs": [],
   "source": [
    "# Unpickle\n",
    "def unpickle(file):\n",
    "    with open(file, 'rb') as fo:\n",
    "        d = pickle.load(fo, encoding='bytes')\n",
    "    return d"
   ]
  },
  {
   "cell_type": "code",
   "execution_count": 15,
   "metadata": {
    "collapsed": false
   },
   "outputs": [],
   "source": [
    "# Concatenate data_batches\n",
    "data_batches = []\n",
    "for i in range(1, 6):\n",
    "    data_batches.append(\n",
    "        unpickle(\"cifar-10-python/cifar-10-batches-py/data_batch_\" + str(i)))"
   ]
  },
  {
   "cell_type": "code",
   "execution_count": 17,
   "metadata": {
    "collapsed": false
   },
   "outputs": [],
   "source": [
    "# Get dir\n",
    "dirp = os.getcwd()\n",
    "\n",
    "# Create images folder\n",
    "pathlib.Path(\"images\").mkdir(parents=True, exist_ok=True) \n",
    "os.chdir(\"images\")\n",
    "\n",
    "# Extract images\n",
    "for data_batch in data_batches:\n",
    "\n",
    "    # Select columns\n",
    "    db_data = zip(\n",
    "        data_batch[b'labels'],\n",
    "        data_batch[b'data'], \n",
    "        data_batch[b'filenames'])\n",
    "\n",
    "    # Iterate over data\n",
    "    for label, data, filename in db_data:\n",
    "        \n",
    "        # Create dir if not exists\n",
    "        dir = classes[label]\n",
    "        pathlib.Path(dir).mkdir(parents=True, exist_ok=True) \n",
    "\n",
    "        # Save img\n",
    "        path = dir + \"/\" + str(filename, 'utf-8')\n",
    "        dr = data.reshape(3, 32, 32).T\n",
    "        dtps = dr.transpose(1, 0, 2)\n",
    "        plt.imsave(path, dtps)\n",
    "        \n",
    "os.chdir(dirp)"
   ]
  }
 ],
 "metadata": {
  "kernelspec": {
   "display_name": "Python 3.10.4 64-bit",
   "language": "python",
   "name": "python3"
  },
  "language_info": {
   "codemirror_mode": {
    "name": "ipython",
    "version": 3
   },
   "file_extension": ".py",
   "mimetype": "text/x-python",
   "name": "python",
   "nbconvert_exporter": "python",
   "pygments_lexer": "ipython3",
   "version": "3.10.6"
  },
  "vscode": {
   "interpreter": {
    "hash": "916dbcbb3f70747c44a77c7bcd40155683ae19c65e1c03b4aa3499c5328201f1"
   }
  }
 },
 "nbformat": 4,
 "nbformat_minor": 0
}
